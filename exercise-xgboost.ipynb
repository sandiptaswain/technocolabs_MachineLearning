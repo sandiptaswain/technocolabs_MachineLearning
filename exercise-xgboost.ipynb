{
 "cells": [
  {
   "cell_type": "markdown",
   "id": "1667aa1b",
   "metadata": {
    "papermill": {
     "duration": 0.007814,
     "end_time": "2023-07-14T10:39:46.445448",
     "exception": false,
     "start_time": "2023-07-14T10:39:46.437634",
     "status": "completed"
    },
    "tags": []
   },
   "source": [
    "**This notebook is an exercise in the [Intermediate Machine Learning](https://www.kaggle.com/learn/intermediate-machine-learning) course.  You can reference the tutorial at [this link](https://www.kaggle.com/alexisbcook/xgboost).**\n",
    "\n",
    "---\n"
   ]
  },
  {
   "cell_type": "markdown",
   "id": "47f3e030",
   "metadata": {
    "papermill": {
     "duration": 0.006623,
     "end_time": "2023-07-14T10:39:46.459261",
     "exception": false,
     "start_time": "2023-07-14T10:39:46.452638",
     "status": "completed"
    },
    "tags": []
   },
   "source": [
    "In this exercise, you will use your new knowledge to train a model with **gradient boosting**.\n",
    "\n",
    "# Setup\n",
    "\n",
    "The questions below will give you feedback on your work. Run the following cell to set up the feedback system."
   ]
  },
  {
   "cell_type": "code",
   "execution_count": 1,
   "id": "852ba8d3",
   "metadata": {
    "execution": {
     "iopub.execute_input": "2023-07-14T10:39:46.476028Z",
     "iopub.status.busy": "2023-07-14T10:39:46.475624Z",
     "iopub.status.idle": "2023-07-14T10:39:49.547080Z",
     "shell.execute_reply": "2023-07-14T10:39:49.546160Z"
    },
    "papermill": {
     "duration": 3.083472,
     "end_time": "2023-07-14T10:39:49.549741",
     "exception": false,
     "start_time": "2023-07-14T10:39:46.466269",
     "status": "completed"
    },
    "tags": []
   },
   "outputs": [
    {
     "name": "stderr",
     "output_type": "stream",
     "text": [
      "/opt/conda/lib/python3.10/site-packages/scipy/__init__.py:146: UserWarning: A NumPy version >=1.16.5 and <1.23.0 is required for this version of SciPy (detected version 1.23.5\n",
      "  warnings.warn(f\"A NumPy version >={np_minversion} and <{np_maxversion}\"\n"
     ]
    },
    {
     "name": "stdout",
     "output_type": "stream",
     "text": [
      "Setup Complete\n"
     ]
    }
   ],
   "source": [
    "# Set up code checking\n",
    "import os\n",
    "if not os.path.exists(\"../input/train.csv\"):\n",
    "    os.symlink(\"../input/home-data-for-ml-course/train.csv\", \"../input/train.csv\")  \n",
    "    os.symlink(\"../input/home-data-for-ml-course/test.csv\", \"../input/test.csv\") \n",
    "from learntools.core import binder\n",
    "binder.bind(globals())\n",
    "from learntools.ml_intermediate.ex6 import *\n",
    "print(\"Setup Complete\")"
   ]
  },
  {
   "cell_type": "markdown",
   "id": "404742bc",
   "metadata": {
    "papermill": {
     "duration": 0.007083,
     "end_time": "2023-07-14T10:39:49.564949",
     "exception": false,
     "start_time": "2023-07-14T10:39:49.557866",
     "status": "completed"
    },
    "tags": []
   },
   "source": [
    "You will work with the [Housing Prices Competition for Kaggle Learn Users](https://www.kaggle.com/c/home-data-for-ml-course) dataset from the previous exercise. \n",
    "\n",
    "![Ames Housing dataset image](https://storage.googleapis.com/kaggle-media/learn/images/lTJVG4e.png)\n",
    "\n",
    "Run the next code cell without changes to load the training and validation sets in `X_train`, `X_valid`, `y_train`, and `y_valid`.  The test set is loaded in `X_test`."
   ]
  },
  {
   "cell_type": "code",
   "execution_count": 2,
   "id": "3de8ffd2",
   "metadata": {
    "execution": {
     "iopub.execute_input": "2023-07-14T10:39:49.581707Z",
     "iopub.status.busy": "2023-07-14T10:39:49.581220Z",
     "iopub.status.idle": "2023-07-14T10:39:49.801274Z",
     "shell.execute_reply": "2023-07-14T10:39:49.800236Z"
    },
    "papermill": {
     "duration": 0.231694,
     "end_time": "2023-07-14T10:39:49.803964",
     "exception": false,
     "start_time": "2023-07-14T10:39:49.572270",
     "status": "completed"
    },
    "tags": []
   },
   "outputs": [],
   "source": [
    "import pandas as pd\n",
    "from sklearn.model_selection import train_test_split\n",
    "\n",
    "# Read the data\n",
    "X = pd.read_csv('../input/train.csv', index_col='Id')\n",
    "X_test_full = pd.read_csv('../input/test.csv', index_col='Id')\n",
    "\n",
    "# Remove rows with missing target, separate target from predictors\n",
    "X.dropna(axis=0, subset=['SalePrice'], inplace=True)\n",
    "y = X.SalePrice              \n",
    "X.drop(['SalePrice'], axis=1, inplace=True)\n",
    "\n",
    "# Break off validation set from training data\n",
    "X_train_full, X_valid_full, y_train, y_valid = train_test_split(X, y, train_size=0.8, test_size=0.2,\n",
    "                                                                random_state=0)\n",
    "\n",
    "# \"Cardinality\" means the number of unique values in a column\n",
    "# Select categorical columns with relatively low cardinality (convenient but arbitrary)\n",
    "low_cardinality_cols = [cname for cname in X_train_full.columns if X_train_full[cname].nunique() < 10 and \n",
    "                        X_train_full[cname].dtype == \"object\"]\n",
    "\n",
    "# Select numeric columns\n",
    "numeric_cols = [cname for cname in X_train_full.columns if X_train_full[cname].dtype in ['int64', 'float64']]\n",
    "\n",
    "# Keep selected columns only\n",
    "my_cols = low_cardinality_cols + numeric_cols\n",
    "X_train = X_train_full[my_cols].copy()\n",
    "X_valid = X_valid_full[my_cols].copy()\n",
    "X_test = X_test_full[my_cols].copy()\n",
    "\n",
    "# One-hot encode the data (to shorten the code, we use pandas)\n",
    "X_train = pd.get_dummies(X_train)\n",
    "X_valid = pd.get_dummies(X_valid)\n",
    "X_test = pd.get_dummies(X_test)\n",
    "X_train, X_valid = X_train.align(X_valid, join='left', axis=1)\n",
    "X_train, X_test = X_train.align(X_test, join='left', axis=1)"
   ]
  },
  {
   "cell_type": "markdown",
   "id": "51d90734",
   "metadata": {
    "papermill": {
     "duration": 0.009149,
     "end_time": "2023-07-14T10:39:49.820572",
     "exception": false,
     "start_time": "2023-07-14T10:39:49.811423",
     "status": "completed"
    },
    "tags": []
   },
   "source": [
    "# Step 1: Build model\n",
    "\n",
    "### Part A\n",
    "\n",
    "In this step, you'll build and train your first model with gradient boosting.\n",
    "\n",
    "- Begin by setting `my_model_1` to an XGBoost model.  Use the [XGBRegressor](https://xgboost.readthedocs.io/en/latest/python/python_api.html#xgboost.XGBRegressor) class, and set the random seed to 0 (`random_state=0`).  **Leave all other parameters as default.**\n",
    "- Then, fit the model to the training data in `X_train` and `y_train`."
   ]
  },
  {
   "cell_type": "code",
   "execution_count": 3,
   "id": "12f90eea",
   "metadata": {
    "execution": {
     "iopub.execute_input": "2023-07-14T10:39:49.837337Z",
     "iopub.status.busy": "2023-07-14T10:39:49.836885Z",
     "iopub.status.idle": "2023-07-14T10:39:50.752448Z",
     "shell.execute_reply": "2023-07-14T10:39:50.751180Z"
    },
    "papermill": {
     "duration": 0.927151,
     "end_time": "2023-07-14T10:39:50.755094",
     "exception": false,
     "start_time": "2023-07-14T10:39:49.827943",
     "status": "completed"
    },
    "tags": []
   },
   "outputs": [
    {
     "data": {
      "application/javascript": [
       "parent.postMessage({\"jupyterEvent\": \"custom.exercise_interaction\", \"data\": {\"outcomeType\": 1, \"valueTowardsCompletion\": 0.5, \"interactionType\": 1, \"questionType\": 2, \"questionId\": \"1.1_Model1A\", \"learnToolsVersion\": \"0.3.4\", \"failureMessage\": \"\", \"exceptionClass\": \"\", \"trace\": \"\"}}, \"*\")"
      ],
      "text/plain": [
       "<IPython.core.display.Javascript object>"
      ]
     },
     "metadata": {},
     "output_type": "display_data"
    },
    {
     "data": {
      "text/markdown": [
       "<span style=\"color:#33cc33\">Correct</span>"
      ],
      "text/plain": [
       "Correct"
      ]
     },
     "metadata": {},
     "output_type": "display_data"
    }
   ],
   "source": [
    "from xgboost import XGBRegressor\n",
    "\n",
    "# Define the model\n",
    "my_model_1 = XGBRegressor(random_state=0)\n",
    "\n",
    "# Fit the model\n",
    "my_model_1.fit(X_train, y_train)\n",
    "\n",
    "# Check your answer\n",
    "step_1.a.check()"
   ]
  },
  {
   "cell_type": "code",
   "execution_count": 4,
   "id": "b523c3f0",
   "metadata": {
    "execution": {
     "iopub.execute_input": "2023-07-14T10:39:50.773087Z",
     "iopub.status.busy": "2023-07-14T10:39:50.772660Z",
     "iopub.status.idle": "2023-07-14T10:39:50.777232Z",
     "shell.execute_reply": "2023-07-14T10:39:50.776085Z"
    },
    "papermill": {
     "duration": 0.016408,
     "end_time": "2023-07-14T10:39:50.779707",
     "exception": false,
     "start_time": "2023-07-14T10:39:50.763299",
     "status": "completed"
    },
    "tags": []
   },
   "outputs": [],
   "source": [
    "# Lines below will give you a hint or solution code\n",
    "#step_1.a.hint()\n",
    "#step_1.a.solution()"
   ]
  },
  {
   "cell_type": "markdown",
   "id": "9a76f002",
   "metadata": {
    "papermill": {
     "duration": 0.007561,
     "end_time": "2023-07-14T10:39:50.795116",
     "exception": false,
     "start_time": "2023-07-14T10:39:50.787555",
     "status": "completed"
    },
    "tags": []
   },
   "source": [
    "### Part B\n",
    "\n",
    "Set `predictions_1` to the model's predictions for the validation data.  Recall that the validation features are stored in `X_valid`."
   ]
  },
  {
   "cell_type": "code",
   "execution_count": 5,
   "id": "740fdc9e",
   "metadata": {
    "execution": {
     "iopub.execute_input": "2023-07-14T10:39:50.812737Z",
     "iopub.status.busy": "2023-07-14T10:39:50.812019Z",
     "iopub.status.idle": "2023-07-14T10:39:50.843778Z",
     "shell.execute_reply": "2023-07-14T10:39:50.842590Z"
    },
    "papermill": {
     "duration": 0.044187,
     "end_time": "2023-07-14T10:39:50.847061",
     "exception": false,
     "start_time": "2023-07-14T10:39:50.802874",
     "status": "completed"
    },
    "tags": []
   },
   "outputs": [
    {
     "data": {
      "application/javascript": [
       "parent.postMessage({\"jupyterEvent\": \"custom.exercise_interaction\", \"data\": {\"outcomeType\": 1, \"valueTowardsCompletion\": 0.5, \"interactionType\": 1, \"questionType\": 2, \"questionId\": \"1.2_Model1B\", \"learnToolsVersion\": \"0.3.4\", \"failureMessage\": \"\", \"exceptionClass\": \"\", \"trace\": \"\"}}, \"*\")"
      ],
      "text/plain": [
       "<IPython.core.display.Javascript object>"
      ]
     },
     "metadata": {},
     "output_type": "display_data"
    },
    {
     "data": {
      "text/markdown": [
       "<span style=\"color:#33cc33\">Correct</span>"
      ],
      "text/plain": [
       "Correct"
      ]
     },
     "metadata": {},
     "output_type": "display_data"
    }
   ],
   "source": [
    "from sklearn.metrics import mean_absolute_error\n",
    "\n",
    "# Get predictions\n",
    "predictions_1 = my_model_1.predict(X_valid)\n",
    "\n",
    "# Check your answer\n",
    "step_1.b.check()"
   ]
  },
  {
   "cell_type": "code",
   "execution_count": 6,
   "id": "fe6546c1",
   "metadata": {
    "execution": {
     "iopub.execute_input": "2023-07-14T10:39:50.865989Z",
     "iopub.status.busy": "2023-07-14T10:39:50.865585Z",
     "iopub.status.idle": "2023-07-14T10:39:50.869810Z",
     "shell.execute_reply": "2023-07-14T10:39:50.868573Z"
    },
    "papermill": {
     "duration": 0.016371,
     "end_time": "2023-07-14T10:39:50.872186",
     "exception": false,
     "start_time": "2023-07-14T10:39:50.855815",
     "status": "completed"
    },
    "tags": []
   },
   "outputs": [],
   "source": [
    "# Lines below will give you a hint or solution code\n",
    "#step_1.b.hint()\n",
    "#step_1.b.solution()"
   ]
  },
  {
   "cell_type": "markdown",
   "id": "a63042dc",
   "metadata": {
    "papermill": {
     "duration": 0.008562,
     "end_time": "2023-07-14T10:39:50.888841",
     "exception": false,
     "start_time": "2023-07-14T10:39:50.880279",
     "status": "completed"
    },
    "tags": []
   },
   "source": [
    "### Part C\n",
    "\n",
    "Finally, use the `mean_absolute_error()` function to calculate the mean absolute error (MAE) corresponding to the predictions for the validation set.  Recall that the labels for the validation data are stored in `y_valid`."
   ]
  },
  {
   "cell_type": "code",
   "execution_count": 7,
   "id": "32bd506a",
   "metadata": {
    "execution": {
     "iopub.execute_input": "2023-07-14T10:39:50.908242Z",
     "iopub.status.busy": "2023-07-14T10:39:50.906803Z",
     "iopub.status.idle": "2023-07-14T10:39:50.921132Z",
     "shell.execute_reply": "2023-07-14T10:39:50.919670Z"
    },
    "papermill": {
     "duration": 0.026704,
     "end_time": "2023-07-14T10:39:50.923889",
     "exception": false,
     "start_time": "2023-07-14T10:39:50.897185",
     "status": "completed"
    },
    "tags": []
   },
   "outputs": [
    {
     "name": "stdout",
     "output_type": "stream",
     "text": [
      "Mean Absolute Error: 17662.736729452055\n"
     ]
    },
    {
     "data": {
      "application/javascript": [
       "parent.postMessage({\"jupyterEvent\": \"custom.exercise_interaction\", \"data\": {\"outcomeType\": 1, \"valueTowardsCompletion\": 0.5, \"interactionType\": 1, \"questionType\": 2, \"questionId\": \"1.3_Model1C\", \"learnToolsVersion\": \"0.3.4\", \"failureMessage\": \"\", \"exceptionClass\": \"\", \"trace\": \"\"}}, \"*\")"
      ],
      "text/plain": [
       "<IPython.core.display.Javascript object>"
      ]
     },
     "metadata": {},
     "output_type": "display_data"
    },
    {
     "data": {
      "text/markdown": [
       "<span style=\"color:#33cc33\">Correct</span>"
      ],
      "text/plain": [
       "Correct"
      ]
     },
     "metadata": {},
     "output_type": "display_data"
    }
   ],
   "source": [
    "# Calculate MAE\n",
    "mae_1 =  mean_absolute_error(predictions_1, y_valid)\n",
    "print(\"Mean Absolute Error:\" , mae_1)# Your code here\n",
    "\n",
    "# Uncomment to print MAE\n",
    "# print(\"Mean Absolute Error:\" , mae_1)\n",
    "\n",
    "# Check your answer\n",
    "step_1.c.check()"
   ]
  },
  {
   "cell_type": "code",
   "execution_count": 8,
   "id": "14d548db",
   "metadata": {
    "execution": {
     "iopub.execute_input": "2023-07-14T10:39:50.943900Z",
     "iopub.status.busy": "2023-07-14T10:39:50.942695Z",
     "iopub.status.idle": "2023-07-14T10:39:50.952098Z",
     "shell.execute_reply": "2023-07-14T10:39:50.951264Z"
    },
    "papermill": {
     "duration": 0.021778,
     "end_time": "2023-07-14T10:39:50.954354",
     "exception": false,
     "start_time": "2023-07-14T10:39:50.932576",
     "status": "completed"
    },
    "tags": []
   },
   "outputs": [
    {
     "data": {
      "application/javascript": [
       "parent.postMessage({\"jupyterEvent\": \"custom.exercise_interaction\", \"data\": {\"interactionType\": 3, \"questionType\": 2, \"questionId\": \"1.3_Model1C\", \"learnToolsVersion\": \"0.3.4\", \"valueTowardsCompletion\": 0.0, \"failureMessage\": \"\", \"exceptionClass\": \"\", \"trace\": \"\", \"outcomeType\": 4}}, \"*\")"
      ],
      "text/plain": [
       "<IPython.core.display.Javascript object>"
      ]
     },
     "metadata": {},
     "output_type": "display_data"
    },
    {
     "data": {
      "text/markdown": [
       "<span style=\"color:#33cc99\">Solution:</span> \n",
       "```python\n",
       "# Calculate MAE\n",
       "mae_1 = mean_absolute_error(predictions_1, y_valid)\n",
       "print(\"Mean Absolute Error:\" , mae_1)\n",
       "\n",
       "```"
      ],
      "text/plain": [
       "Solution: \n",
       "```python\n",
       "# Calculate MAE\n",
       "mae_1 = mean_absolute_error(predictions_1, y_valid)\n",
       "print(\"Mean Absolute Error:\" , mae_1)\n",
       "\n",
       "```"
      ]
     },
     "metadata": {},
     "output_type": "display_data"
    }
   ],
   "source": [
    "# Lines below will give you a hint or solution code\n",
    "#step_1.c.hint()\n",
    "step_1.c.solution()"
   ]
  },
  {
   "cell_type": "markdown",
   "id": "ac789d4f",
   "metadata": {
    "papermill": {
     "duration": 0.008707,
     "end_time": "2023-07-14T10:39:50.971972",
     "exception": false,
     "start_time": "2023-07-14T10:39:50.963265",
     "status": "completed"
    },
    "tags": []
   },
   "source": [
    "# Step 2: Improve the model\n",
    "\n",
    "Now that you've trained a default model as baseline, it's time to tinker with the parameters, to see if you can get better performance!\n",
    "- Begin by setting `my_model_2` to an XGBoost model, using the [XGBRegressor](https://xgboost.readthedocs.io/en/latest/python/python_api.html#xgboost.XGBRegressor) class.  Use what you learned in the previous tutorial to figure out how to change the default parameters (like `n_estimators` and `learning_rate`) to get better results.\n",
    "- Then, fit the model to the training data in `X_train` and `y_train`.\n",
    "- Set `predictions_2` to the model's predictions for the validation data.  Recall that the validation features are stored in `X_valid`.\n",
    "- Finally, use the `mean_absolute_error()` function to calculate the mean absolute error (MAE) corresponding to the predictions on the validation set.  Recall that the labels for the validation data are stored in `y_valid`.\n",
    "\n",
    "In order for this step to be marked correct, your model in `my_model_2` must attain lower MAE than the model in `my_model_1`. "
   ]
  },
  {
   "cell_type": "code",
   "execution_count": 9,
   "id": "a0ebb825",
   "metadata": {
    "execution": {
     "iopub.execute_input": "2023-07-14T10:39:50.992930Z",
     "iopub.status.busy": "2023-07-14T10:39:50.991779Z",
     "iopub.status.idle": "2023-07-14T10:39:59.656538Z",
     "shell.execute_reply": "2023-07-14T10:39:59.655233Z"
    },
    "papermill": {
     "duration": 8.679047,
     "end_time": "2023-07-14T10:39:59.659867",
     "exception": false,
     "start_time": "2023-07-14T10:39:50.980820",
     "status": "completed"
    },
    "tags": []
   },
   "outputs": [
    {
     "name": "stdout",
     "output_type": "stream",
     "text": [
      "Mean Absolute Error: 16688.691513270547\n"
     ]
    },
    {
     "data": {
      "application/javascript": [
       "parent.postMessage({\"jupyterEvent\": \"custom.exercise_interaction\", \"data\": {\"outcomeType\": 1, \"valueTowardsCompletion\": 0.5, \"interactionType\": 1, \"questionType\": 2, \"questionId\": \"2_Model2\", \"learnToolsVersion\": \"0.3.4\", \"failureMessage\": \"\", \"exceptionClass\": \"\", \"trace\": \"\"}}, \"*\")"
      ],
      "text/plain": [
       "<IPython.core.display.Javascript object>"
      ]
     },
     "metadata": {},
     "output_type": "display_data"
    },
    {
     "data": {
      "text/markdown": [
       "<span style=\"color:#33cc33\">Correct</span>"
      ],
      "text/plain": [
       "Correct"
      ]
     },
     "metadata": {},
     "output_type": "display_data"
    }
   ],
   "source": [
    "# Define the model\n",
    "my_model_2 = XGBRegressor(n_estimators=1000, learning_rate=0.05)\n",
    "\n",
    "# Fit the model\n",
    "my_model_2.fit(X_train, y_train)\n",
    "\n",
    "# Get predictions\n",
    "predictions_2 = my_model_2.predict(X_valid)\n",
    "\n",
    "# Calculate MAE\n",
    "mae_2 = mean_absolute_error(predictions_2, y_valid)\n",
    "\n",
    "\n",
    "\n",
    "# Uncomment to print MAE\n",
    "print(\"Mean Absolute Error:\" , mae_2)\n",
    "\n",
    "# Check your answer\n",
    "step_2.check()"
   ]
  },
  {
   "cell_type": "code",
   "execution_count": 10,
   "id": "4f8de802",
   "metadata": {
    "execution": {
     "iopub.execute_input": "2023-07-14T10:39:59.686259Z",
     "iopub.status.busy": "2023-07-14T10:39:59.685794Z",
     "iopub.status.idle": "2023-07-14T10:39:59.690969Z",
     "shell.execute_reply": "2023-07-14T10:39:59.689662Z"
    },
    "papermill": {
     "duration": 0.023753,
     "end_time": "2023-07-14T10:39:59.693575",
     "exception": false,
     "start_time": "2023-07-14T10:39:59.669822",
     "status": "completed"
    },
    "tags": []
   },
   "outputs": [],
   "source": [
    "# Lines below will give you a hint or solution code\n",
    "#step_2.hint()\n",
    "#step_2.solution()"
   ]
  },
  {
   "cell_type": "markdown",
   "id": "d0772fb8",
   "metadata": {
    "papermill": {
     "duration": 0.009295,
     "end_time": "2023-07-14T10:39:59.712609",
     "exception": false,
     "start_time": "2023-07-14T10:39:59.703314",
     "status": "completed"
    },
    "tags": []
   },
   "source": [
    "# Step 3: Break the model\n",
    "\n",
    "In this step, you will create a model that performs worse than the original model in Step 1.  This will help you to develop your intuition for how to set parameters.  You might even find that you accidentally get better performance, which is ultimately a nice problem to have and a valuable learning experience!\n",
    "- Begin by setting `my_model_3` to an XGBoost model, using the [XGBRegressor](https://xgboost.readthedocs.io/en/latest/python/python_api.html#xgboost.XGBRegressor) class.  Use what you learned in the previous tutorial to figure out how to change the default parameters (like `n_estimators` and `learning_rate`) to design a model to get high MAE.\n",
    "- Then, fit the model to the training data in `X_train` and `y_train`.\n",
    "- Set `predictions_3` to the model's predictions for the validation data.  Recall that the validation features are stored in `X_valid`.\n",
    "- Finally, use the `mean_absolute_error()` function to calculate the mean absolute error (MAE) corresponding to the predictions on the validation set.  Recall that the labels for the validation data are stored in `y_valid`.\n",
    "\n",
    "In order for this step to be marked correct, your model in `my_model_3` must attain higher MAE than the model in `my_model_1`. "
   ]
  },
  {
   "cell_type": "code",
   "execution_count": 11,
   "id": "0cb87bbf",
   "metadata": {
    "execution": {
     "iopub.execute_input": "2023-07-14T10:39:59.734254Z",
     "iopub.status.busy": "2023-07-14T10:39:59.733795Z",
     "iopub.status.idle": "2023-07-14T10:39:59.800833Z",
     "shell.execute_reply": "2023-07-14T10:39:59.799644Z"
    },
    "papermill": {
     "duration": 0.081103,
     "end_time": "2023-07-14T10:39:59.803530",
     "exception": false,
     "start_time": "2023-07-14T10:39:59.722427",
     "status": "completed"
    },
    "tags": []
   },
   "outputs": [
    {
     "name": "stdout",
     "output_type": "stream",
     "text": [
      "Mean Absolute Error: 127895.0828807256\n"
     ]
    },
    {
     "data": {
      "application/javascript": [
       "parent.postMessage({\"jupyterEvent\": \"custom.exercise_interaction\", \"data\": {\"outcomeType\": 1, \"valueTowardsCompletion\": 0.5, \"interactionType\": 1, \"questionType\": 2, \"questionId\": \"3_Model3\", \"learnToolsVersion\": \"0.3.4\", \"failureMessage\": \"\", \"exceptionClass\": \"\", \"trace\": \"\"}}, \"*\")"
      ],
      "text/plain": [
       "<IPython.core.display.Javascript object>"
      ]
     },
     "metadata": {},
     "output_type": "display_data"
    },
    {
     "data": {
      "text/markdown": [
       "<span style=\"color:#33cc33\">Correct</span>"
      ],
      "text/plain": [
       "Correct"
      ]
     },
     "metadata": {},
     "output_type": "display_data"
    }
   ],
   "source": [
    "# Define the model\n",
    "# Define the model\n",
    "my_model_3 = XGBRegressor(n_estimators=1)\n",
    "\n",
    "# Fit the model\n",
    "my_model_3.fit(X_train, y_train)\n",
    "\n",
    "# Get predictions\n",
    "predictions_3 = my_model_3.predict(X_valid)\n",
    "\n",
    "# Calculate MAE\n",
    "mae_3 = mean_absolute_error(predictions_3, y_valid)\n",
    "\n",
    "# Uncomment to print MAE\n",
    "print(\"Mean Absolute Error:\" , mae_3)\n",
    "\n",
    "# Check your answer\n",
    "step_3.check()"
   ]
  },
  {
   "cell_type": "code",
   "execution_count": 12,
   "id": "c594f1cd",
   "metadata": {
    "execution": {
     "iopub.execute_input": "2023-07-14T10:39:59.826888Z",
     "iopub.status.busy": "2023-07-14T10:39:59.826407Z",
     "iopub.status.idle": "2023-07-14T10:39:59.831741Z",
     "shell.execute_reply": "2023-07-14T10:39:59.830572Z"
    },
    "papermill": {
     "duration": 0.01945,
     "end_time": "2023-07-14T10:39:59.834283",
     "exception": false,
     "start_time": "2023-07-14T10:39:59.814833",
     "status": "completed"
    },
    "tags": []
   },
   "outputs": [],
   "source": [
    "# Lines below will give you a hint or solution code\n",
    "#step_3.hint()\n",
    "#step_3.solution()"
   ]
  },
  {
   "cell_type": "markdown",
   "id": "379e3547",
   "metadata": {
    "papermill": {
     "duration": 0.009184,
     "end_time": "2023-07-14T10:39:59.853187",
     "exception": false,
     "start_time": "2023-07-14T10:39:59.844003",
     "status": "completed"
    },
    "tags": []
   },
   "source": [
    "# Keep going\n",
    "\n",
    "Continue to learn about **[data leakage](https://www.kaggle.com/alexisbcook/data-leakage)**.  This is an important issue for a data scientist to understand, and it has the potential to ruin your models in subtle and dangerous ways!"
   ]
  },
  {
   "cell_type": "markdown",
   "id": "a119eff7",
   "metadata": {
    "papermill": {
     "duration": 0.009047,
     "end_time": "2023-07-14T10:39:59.871730",
     "exception": false,
     "start_time": "2023-07-14T10:39:59.862683",
     "status": "completed"
    },
    "tags": []
   },
   "source": [
    "---\n",
    "\n",
    "\n",
    "\n",
    "\n",
    "*Have questions or comments? Visit the [course discussion forum](https://www.kaggle.com/learn/intermediate-machine-learning/discussion) to chat with other learners.*"
   ]
  }
 ],
 "metadata": {
  "kernelspec": {
   "display_name": "Python 3",
   "language": "python",
   "name": "python3"
  },
  "language_info": {
   "codemirror_mode": {
    "name": "ipython",
    "version": 3
   },
   "file_extension": ".py",
   "mimetype": "text/x-python",
   "name": "python",
   "nbconvert_exporter": "python",
   "pygments_lexer": "ipython3",
   "version": "3.10.12"
  },
  "papermill": {
   "default_parameters": {},
   "duration": 28.230231,
   "end_time": "2023-07-14T10:40:01.307373",
   "environment_variables": {},
   "exception": null,
   "input_path": "__notebook__.ipynb",
   "output_path": "__notebook__.ipynb",
   "parameters": {},
   "start_time": "2023-07-14T10:39:33.077142",
   "version": "2.4.0"
  }
 },
 "nbformat": 4,
 "nbformat_minor": 5
}
