{
 "cells": [
  {
   "cell_type": "markdown",
   "id": "aff68678",
   "metadata": {
    "papermill": {
     "duration": 0.005082,
     "end_time": "2023-07-14T10:30:55.641912",
     "exception": false,
     "start_time": "2023-07-14T10:30:55.636830",
     "status": "completed"
    },
    "tags": []
   },
   "source": [
    "**This notebook is an exercise in the [Intermediate Machine Learning](https://www.kaggle.com/learn/intermediate-machine-learning) course.  You can reference the tutorial at [this link](https://www.kaggle.com/alexisbcook/xgboost).**\n",
    "\n",
    "---\n"
   ]
  },
  {
   "cell_type": "markdown",
   "id": "d7732887",
   "metadata": {
    "papermill": {
     "duration": 0.004043,
     "end_time": "2023-07-14T10:30:55.650565",
     "exception": false,
     "start_time": "2023-07-14T10:30:55.646522",
     "status": "completed"
    },
    "tags": []
   },
   "source": [
    "In this exercise, you will use your new knowledge to train a model with **gradient boosting**.\n",
    "\n",
    "# Setup\n",
    "\n",
    "The questions below will give you feedback on your work. Run the following cell to set up the feedback system."
   ]
  },
  {
   "cell_type": "code",
   "execution_count": 1,
   "id": "5d7bbe1b",
   "metadata": {
    "execution": {
     "iopub.execute_input": "2023-07-14T10:30:55.660855Z",
     "iopub.status.busy": "2023-07-14T10:30:55.660524Z",
     "iopub.status.idle": "2023-07-14T10:30:58.096383Z",
     "shell.execute_reply": "2023-07-14T10:30:58.095173Z"
    },
    "papermill": {
     "duration": 2.443554,
     "end_time": "2023-07-14T10:30:58.098414",
     "exception": false,
     "start_time": "2023-07-14T10:30:55.654860",
     "status": "completed"
    },
    "tags": []
   },
   "outputs": [
    {
     "name": "stderr",
     "output_type": "stream",
     "text": [
      "/opt/conda/lib/python3.10/site-packages/scipy/__init__.py:146: UserWarning: A NumPy version >=1.16.5 and <1.23.0 is required for this version of SciPy (detected version 1.23.5\n",
      "  warnings.warn(f\"A NumPy version >={np_minversion} and <{np_maxversion}\"\n"
     ]
    },
    {
     "name": "stdout",
     "output_type": "stream",
     "text": [
      "Setup Complete\n"
     ]
    }
   ],
   "source": [
    "# Set up code checking\n",
    "import os\n",
    "if not os.path.exists(\"../input/train.csv\"):\n",
    "    os.symlink(\"../input/home-data-for-ml-course/train.csv\", \"../input/train.csv\")  \n",
    "    os.symlink(\"../input/home-data-for-ml-course/test.csv\", \"../input/test.csv\") \n",
    "from learntools.core import binder\n",
    "binder.bind(globals())\n",
    "from learntools.ml_intermediate.ex6 import *\n",
    "print(\"Setup Complete\")"
   ]
  },
  {
   "cell_type": "markdown",
   "id": "4940b255",
   "metadata": {
    "papermill": {
     "duration": 0.004214,
     "end_time": "2023-07-14T10:30:58.107104",
     "exception": false,
     "start_time": "2023-07-14T10:30:58.102890",
     "status": "completed"
    },
    "tags": []
   },
   "source": [
    "You will work with the [Housing Prices Competition for Kaggle Learn Users](https://www.kaggle.com/c/home-data-for-ml-course) dataset from the previous exercise. \n",
    "\n",
    "![Ames Housing dataset image](https://storage.googleapis.com/kaggle-media/learn/images/lTJVG4e.png)\n",
    "\n",
    "Run the next code cell without changes to load the training and validation sets in `X_train`, `X_valid`, `y_train`, and `y_valid`.  The test set is loaded in `X_test`."
   ]
  },
  {
   "cell_type": "code",
   "execution_count": 2,
   "id": "606bf1cc",
   "metadata": {
    "execution": {
     "iopub.execute_input": "2023-07-14T10:30:58.117509Z",
     "iopub.status.busy": "2023-07-14T10:30:58.117112Z",
     "iopub.status.idle": "2023-07-14T10:30:58.263872Z",
     "shell.execute_reply": "2023-07-14T10:30:58.262650Z"
    },
    "papermill": {
     "duration": 0.155225,
     "end_time": "2023-07-14T10:30:58.266628",
     "exception": false,
     "start_time": "2023-07-14T10:30:58.111403",
     "status": "completed"
    },
    "tags": []
   },
   "outputs": [],
   "source": [
    "import pandas as pd\n",
    "from sklearn.model_selection import train_test_split\n",
    "\n",
    "# Read the data\n",
    "X = pd.read_csv('../input/train.csv', index_col='Id')\n",
    "X_test_full = pd.read_csv('../input/test.csv', index_col='Id')\n",
    "\n",
    "# Remove rows with missing target, separate target from predictors\n",
    "X.dropna(axis=0, subset=['SalePrice'], inplace=True)\n",
    "y = X.SalePrice              \n",
    "X.drop(['SalePrice'], axis=1, inplace=True)\n",
    "\n",
    "# Break off validation set from training data\n",
    "X_train_full, X_valid_full, y_train, y_valid = train_test_split(X, y, train_size=0.8, test_size=0.2,\n",
    "                                                                random_state=0)\n",
    "\n",
    "# \"Cardinality\" means the number of unique values in a column\n",
    "# Select categorical columns with relatively low cardinality (convenient but arbitrary)\n",
    "low_cardinality_cols = [cname for cname in X_train_full.columns if X_train_full[cname].nunique() < 10 and \n",
    "                        X_train_full[cname].dtype == \"object\"]\n",
    "\n",
    "# Select numeric columns\n",
    "numeric_cols = [cname for cname in X_train_full.columns if X_train_full[cname].dtype in ['int64', 'float64']]\n",
    "\n",
    "# Keep selected columns only\n",
    "my_cols = low_cardinality_cols + numeric_cols\n",
    "X_train = X_train_full[my_cols].copy()\n",
    "X_valid = X_valid_full[my_cols].copy()\n",
    "X_test = X_test_full[my_cols].copy()\n",
    "\n",
    "# One-hot encode the data (to shorten the code, we use pandas)\n",
    "X_train = pd.get_dummies(X_train)\n",
    "X_valid = pd.get_dummies(X_valid)\n",
    "X_test = pd.get_dummies(X_test)\n",
    "X_train, X_valid = X_train.align(X_valid, join='left', axis=1)\n",
    "X_train, X_test = X_train.align(X_test, join='left', axis=1)"
   ]
  },
  {
   "cell_type": "markdown",
   "id": "97981448",
   "metadata": {
    "papermill": {
     "duration": 0.00609,
     "end_time": "2023-07-14T10:30:58.277441",
     "exception": false,
     "start_time": "2023-07-14T10:30:58.271351",
     "status": "completed"
    },
    "tags": []
   },
   "source": [
    "# Step 1: Build model\n",
    "\n",
    "### Part A\n",
    "\n",
    "In this step, you'll build and train your first model with gradient boosting.\n",
    "\n",
    "- Begin by setting `my_model_1` to an XGBoost model.  Use the [XGBRegressor](https://xgboost.readthedocs.io/en/latest/python/python_api.html#xgboost.XGBRegressor) class, and set the random seed to 0 (`random_state=0`).  **Leave all other parameters as default.**\n",
    "- Then, fit the model to the training data in `X_train` and `y_train`."
   ]
  },
  {
   "cell_type": "code",
   "execution_count": 3,
   "id": "525eac9a",
   "metadata": {
    "execution": {
     "iopub.execute_input": "2023-07-14T10:30:58.288135Z",
     "iopub.status.busy": "2023-07-14T10:30:58.287761Z",
     "iopub.status.idle": "2023-07-14T10:30:58.917356Z",
     "shell.execute_reply": "2023-07-14T10:30:58.916403Z"
    },
    "papermill": {
     "duration": 0.637364,
     "end_time": "2023-07-14T10:30:58.919414",
     "exception": false,
     "start_time": "2023-07-14T10:30:58.282050",
     "status": "completed"
    },
    "tags": []
   },
   "outputs": [
    {
     "data": {
      "application/javascript": [
       "parent.postMessage({\"jupyterEvent\": \"custom.exercise_interaction\", \"data\": {\"outcomeType\": 1, \"valueTowardsCompletion\": 0.5, \"interactionType\": 1, \"questionType\": 2, \"questionId\": \"1.1_Model1A\", \"learnToolsVersion\": \"0.3.4\", \"failureMessage\": \"\", \"exceptionClass\": \"\", \"trace\": \"\"}}, \"*\")"
      ],
      "text/plain": [
       "<IPython.core.display.Javascript object>"
      ]
     },
     "metadata": {},
     "output_type": "display_data"
    },
    {
     "data": {
      "text/markdown": [
       "<span style=\"color:#33cc33\">Correct</span>"
      ],
      "text/plain": [
       "Correct"
      ]
     },
     "metadata": {},
     "output_type": "display_data"
    }
   ],
   "source": [
    "from xgboost import XGBRegressor\n",
    "\n",
    "# Define the model\n",
    "my_model_1 = XGBRegressor(random_state=0)\n",
    "\n",
    "# Fit the model\n",
    "my_model_1.fit(X_train, y_train)\n",
    "\n",
    "# Check your answer\n",
    "step_1.a.check()"
   ]
  },
  {
   "cell_type": "code",
   "execution_count": 4,
   "id": "1b08193f",
   "metadata": {
    "execution": {
     "iopub.execute_input": "2023-07-14T10:30:58.931537Z",
     "iopub.status.busy": "2023-07-14T10:30:58.930565Z",
     "iopub.status.idle": "2023-07-14T10:30:58.934744Z",
     "shell.execute_reply": "2023-07-14T10:30:58.934120Z"
    },
    "papermill": {
     "duration": 0.01157,
     "end_time": "2023-07-14T10:30:58.936391",
     "exception": false,
     "start_time": "2023-07-14T10:30:58.924821",
     "status": "completed"
    },
    "tags": []
   },
   "outputs": [],
   "source": [
    "# Lines below will give you a hint or solution code\n",
    "#step_1.a.hint()\n",
    "#step_1.a.solution()"
   ]
  },
  {
   "cell_type": "markdown",
   "id": "4d80c809",
   "metadata": {
    "papermill": {
     "duration": 0.004396,
     "end_time": "2023-07-14T10:30:58.945602",
     "exception": false,
     "start_time": "2023-07-14T10:30:58.941206",
     "status": "completed"
    },
    "tags": []
   },
   "source": [
    "### Part B\n",
    "\n",
    "Set `predictions_1` to the model's predictions for the validation data.  Recall that the validation features are stored in `X_valid`."
   ]
  },
  {
   "cell_type": "code",
   "execution_count": 5,
   "id": "2e685017",
   "metadata": {
    "execution": {
     "iopub.execute_input": "2023-07-14T10:30:58.956917Z",
     "iopub.status.busy": "2023-07-14T10:30:58.955926Z",
     "iopub.status.idle": "2023-07-14T10:30:58.979206Z",
     "shell.execute_reply": "2023-07-14T10:30:58.978136Z"
    },
    "papermill": {
     "duration": 0.030928,
     "end_time": "2023-07-14T10:30:58.981038",
     "exception": false,
     "start_time": "2023-07-14T10:30:58.950110",
     "status": "completed"
    },
    "tags": []
   },
   "outputs": [
    {
     "data": {
      "application/javascript": [
       "parent.postMessage({\"jupyterEvent\": \"custom.exercise_interaction\", \"data\": {\"outcomeType\": 1, \"valueTowardsCompletion\": 0.5, \"interactionType\": 1, \"questionType\": 2, \"questionId\": \"1.2_Model1B\", \"learnToolsVersion\": \"0.3.4\", \"failureMessage\": \"\", \"exceptionClass\": \"\", \"trace\": \"\"}}, \"*\")"
      ],
      "text/plain": [
       "<IPython.core.display.Javascript object>"
      ]
     },
     "metadata": {},
     "output_type": "display_data"
    },
    {
     "data": {
      "text/markdown": [
       "<span style=\"color:#33cc33\">Correct</span>"
      ],
      "text/plain": [
       "Correct"
      ]
     },
     "metadata": {},
     "output_type": "display_data"
    }
   ],
   "source": [
    "from sklearn.metrics import mean_absolute_error\n",
    "\n",
    "# Get predictions\n",
    "predictions_1 = my_model_1.predict(X_valid)\n",
    "\n",
    "# Check your answer\n",
    "step_1.b.check()"
   ]
  },
  {
   "cell_type": "code",
   "execution_count": 6,
   "id": "1da64bd7",
   "metadata": {
    "execution": {
     "iopub.execute_input": "2023-07-14T10:30:58.992746Z",
     "iopub.status.busy": "2023-07-14T10:30:58.992132Z",
     "iopub.status.idle": "2023-07-14T10:30:58.995886Z",
     "shell.execute_reply": "2023-07-14T10:30:58.995286Z"
    },
    "papermill": {
     "duration": 0.011479,
     "end_time": "2023-07-14T10:30:58.997636",
     "exception": false,
     "start_time": "2023-07-14T10:30:58.986157",
     "status": "completed"
    },
    "tags": []
   },
   "outputs": [],
   "source": [
    "# Lines below will give you a hint or solution code\n",
    "#step_1.b.hint()\n",
    "#step_1.b.solution()"
   ]
  },
  {
   "cell_type": "markdown",
   "id": "dc2fea45",
   "metadata": {
    "papermill": {
     "duration": 0.004677,
     "end_time": "2023-07-14T10:30:59.007271",
     "exception": false,
     "start_time": "2023-07-14T10:30:59.002594",
     "status": "completed"
    },
    "tags": []
   },
   "source": [
    "### Part C\n",
    "\n",
    "Finally, use the `mean_absolute_error()` function to calculate the mean absolute error (MAE) corresponding to the predictions for the validation set.  Recall that the labels for the validation data are stored in `y_valid`."
   ]
  },
  {
   "cell_type": "code",
   "execution_count": 7,
   "id": "a219e427",
   "metadata": {
    "execution": {
     "iopub.execute_input": "2023-07-14T10:30:59.018674Z",
     "iopub.status.busy": "2023-07-14T10:30:59.018056Z",
     "iopub.status.idle": "2023-07-14T10:30:59.025677Z",
     "shell.execute_reply": "2023-07-14T10:30:59.024994Z"
    },
    "papermill": {
     "duration": 0.015374,
     "end_time": "2023-07-14T10:30:59.027410",
     "exception": false,
     "start_time": "2023-07-14T10:30:59.012036",
     "status": "completed"
    },
    "tags": []
   },
   "outputs": [
    {
     "data": {
      "application/javascript": [
       "parent.postMessage({\"jupyterEvent\": \"custom.exercise_interaction\", \"data\": {\"outcomeType\": 4, \"interactionType\": 1, \"questionType\": 2, \"questionId\": \"1.3_Model1C\", \"learnToolsVersion\": \"0.3.4\", \"valueTowardsCompletion\": 0.0, \"failureMessage\": \"\", \"exceptionClass\": \"\", \"trace\": \"\"}}, \"*\")"
      ],
      "text/plain": [
       "<IPython.core.display.Javascript object>"
      ]
     },
     "metadata": {},
     "output_type": "display_data"
    },
    {
     "data": {
      "text/markdown": [
       "<span style=\"color:#ccaa33\">Check:</span> When you've updated the starter code, `check()` will tell you whether your code is correct. You need to update the code that creates variable `mae_1`"
      ],
      "text/plain": [
       "Check: When you've updated the starter code, `check()` will tell you whether your code is correct. You need to update the code that creates variable `mae_1`"
      ]
     },
     "metadata": {},
     "output_type": "display_data"
    }
   ],
   "source": [
    "# Calculate MAE\n",
    "mae_1 = ____ # Your code here\n",
    "\n",
    "# Uncomment to print MAE\n",
    "# print(\"Mean Absolute Error:\" , mae_1)\n",
    "\n",
    "# Check your answer\n",
    "step_1.c.check()"
   ]
  },
  {
   "cell_type": "code",
   "execution_count": 8,
   "id": "f8a6b2e0",
   "metadata": {
    "execution": {
     "iopub.execute_input": "2023-07-14T10:30:59.039522Z",
     "iopub.status.busy": "2023-07-14T10:30:59.038848Z",
     "iopub.status.idle": "2023-07-14T10:30:59.042756Z",
     "shell.execute_reply": "2023-07-14T10:30:59.042117Z"
    },
    "papermill": {
     "duration": 0.012527,
     "end_time": "2023-07-14T10:30:59.045123",
     "exception": false,
     "start_time": "2023-07-14T10:30:59.032596",
     "status": "completed"
    },
    "tags": []
   },
   "outputs": [],
   "source": [
    "# Lines below will give you a hint or solution code\n",
    "#step_1.c.hint()\n",
    "#step_1.c.solution()"
   ]
  },
  {
   "cell_type": "markdown",
   "id": "24e04d39",
   "metadata": {
    "papermill": {
     "duration": 0.004746,
     "end_time": "2023-07-14T10:30:59.055498",
     "exception": false,
     "start_time": "2023-07-14T10:30:59.050752",
     "status": "completed"
    },
    "tags": []
   },
   "source": [
    "# Step 2: Improve the model\n",
    "\n",
    "Now that you've trained a default model as baseline, it's time to tinker with the parameters, to see if you can get better performance!\n",
    "- Begin by setting `my_model_2` to an XGBoost model, using the [XGBRegressor](https://xgboost.readthedocs.io/en/latest/python/python_api.html#xgboost.XGBRegressor) class.  Use what you learned in the previous tutorial to figure out how to change the default parameters (like `n_estimators` and `learning_rate`) to get better results.\n",
    "- Then, fit the model to the training data in `X_train` and `y_train`.\n",
    "- Set `predictions_2` to the model's predictions for the validation data.  Recall that the validation features are stored in `X_valid`.\n",
    "- Finally, use the `mean_absolute_error()` function to calculate the mean absolute error (MAE) corresponding to the predictions on the validation set.  Recall that the labels for the validation data are stored in `y_valid`.\n",
    "\n",
    "In order for this step to be marked correct, your model in `my_model_2` must attain lower MAE than the model in `my_model_1`. "
   ]
  },
  {
   "cell_type": "code",
   "execution_count": 9,
   "id": "11222e14",
   "metadata": {
    "execution": {
     "iopub.execute_input": "2023-07-14T10:30:59.067221Z",
     "iopub.status.busy": "2023-07-14T10:30:59.066852Z",
     "iopub.status.idle": "2023-07-14T10:31:04.889731Z",
     "shell.execute_reply": "2023-07-14T10:31:04.889120Z"
    },
    "papermill": {
     "duration": 5.831517,
     "end_time": "2023-07-14T10:31:04.891937",
     "exception": false,
     "start_time": "2023-07-14T10:30:59.060420",
     "status": "completed"
    },
    "tags": []
   },
   "outputs": [
    {
     "name": "stdout",
     "output_type": "stream",
     "text": [
      "Mean Absolute Error: 16688.691513270547\n"
     ]
    },
    {
     "data": {
      "application/javascript": [
       "parent.postMessage({\"jupyterEvent\": \"custom.exercise_interaction\", \"data\": {\"outcomeType\": 1, \"valueTowardsCompletion\": 0.5, \"interactionType\": 1, \"questionType\": 2, \"questionId\": \"2_Model2\", \"learnToolsVersion\": \"0.3.4\", \"failureMessage\": \"\", \"exceptionClass\": \"\", \"trace\": \"\"}}, \"*\")"
      ],
      "text/plain": [
       "<IPython.core.display.Javascript object>"
      ]
     },
     "metadata": {},
     "output_type": "display_data"
    },
    {
     "data": {
      "text/markdown": [
       "<span style=\"color:#33cc33\">Correct</span>"
      ],
      "text/plain": [
       "Correct"
      ]
     },
     "metadata": {},
     "output_type": "display_data"
    }
   ],
   "source": [
    "# Define the model\n",
    "my_model_2 = XGBRegressor(n_estimators=1000, learning_rate=0.05)\n",
    "\n",
    "# Fit the model\n",
    "my_model_2.fit(X_train, y_train)\n",
    "\n",
    "# Get predictions\n",
    "predictions_2 = my_model_2.predict(X_valid)\n",
    "\n",
    "# Calculate MAE\n",
    "mae_2 = mean_absolute_error(predictions_2, y_valid)\n",
    "\n",
    "\n",
    "\n",
    "# Uncomment to print MAE\n",
    "print(\"Mean Absolute Error:\" , mae_2)\n",
    "\n",
    "# Check your answer\n",
    "step_2.check()"
   ]
  },
  {
   "cell_type": "code",
   "execution_count": 10,
   "id": "fd2ee3fa",
   "metadata": {
    "execution": {
     "iopub.execute_input": "2023-07-14T10:31:04.905830Z",
     "iopub.status.busy": "2023-07-14T10:31:04.905119Z",
     "iopub.status.idle": "2023-07-14T10:31:04.908661Z",
     "shell.execute_reply": "2023-07-14T10:31:04.907957Z"
    },
    "papermill": {
     "duration": 0.012684,
     "end_time": "2023-07-14T10:31:04.910501",
     "exception": false,
     "start_time": "2023-07-14T10:31:04.897817",
     "status": "completed"
    },
    "tags": []
   },
   "outputs": [],
   "source": [
    "# Lines below will give you a hint or solution code\n",
    "#step_2.hint()\n",
    "#step_2.solution()"
   ]
  },
  {
   "cell_type": "markdown",
   "id": "dc6edeec",
   "metadata": {
    "papermill": {
     "duration": 0.005787,
     "end_time": "2023-07-14T10:31:04.922286",
     "exception": false,
     "start_time": "2023-07-14T10:31:04.916499",
     "status": "completed"
    },
    "tags": []
   },
   "source": [
    "# Step 3: Break the model\n",
    "\n",
    "In this step, you will create a model that performs worse than the original model in Step 1.  This will help you to develop your intuition for how to set parameters.  You might even find that you accidentally get better performance, which is ultimately a nice problem to have and a valuable learning experience!\n",
    "- Begin by setting `my_model_3` to an XGBoost model, using the [XGBRegressor](https://xgboost.readthedocs.io/en/latest/python/python_api.html#xgboost.XGBRegressor) class.  Use what you learned in the previous tutorial to figure out how to change the default parameters (like `n_estimators` and `learning_rate`) to design a model to get high MAE.\n",
    "- Then, fit the model to the training data in `X_train` and `y_train`.\n",
    "- Set `predictions_3` to the model's predictions for the validation data.  Recall that the validation features are stored in `X_valid`.\n",
    "- Finally, use the `mean_absolute_error()` function to calculate the mean absolute error (MAE) corresponding to the predictions on the validation set.  Recall that the labels for the validation data are stored in `y_valid`.\n",
    "\n",
    "In order for this step to be marked correct, your model in `my_model_3` must attain higher MAE than the model in `my_model_1`. "
   ]
  },
  {
   "cell_type": "code",
   "execution_count": 11,
   "id": "ddbd769c",
   "metadata": {
    "execution": {
     "iopub.execute_input": "2023-07-14T10:31:04.936644Z",
     "iopub.status.busy": "2023-07-14T10:31:04.936045Z",
     "iopub.status.idle": "2023-07-14T10:31:04.980407Z",
     "shell.execute_reply": "2023-07-14T10:31:04.979626Z"
    },
    "papermill": {
     "duration": 0.053657,
     "end_time": "2023-07-14T10:31:04.982099",
     "exception": false,
     "start_time": "2023-07-14T10:31:04.928442",
     "status": "completed"
    },
    "tags": []
   },
   "outputs": [
    {
     "name": "stdout",
     "output_type": "stream",
     "text": [
      "Mean Absolute Error: 127895.0828807256\n"
     ]
    },
    {
     "data": {
      "application/javascript": [
       "parent.postMessage({\"jupyterEvent\": \"custom.exercise_interaction\", \"data\": {\"outcomeType\": 1, \"valueTowardsCompletion\": 0.5, \"interactionType\": 1, \"questionType\": 2, \"questionId\": \"3_Model3\", \"learnToolsVersion\": \"0.3.4\", \"failureMessage\": \"\", \"exceptionClass\": \"\", \"trace\": \"\"}}, \"*\")"
      ],
      "text/plain": [
       "<IPython.core.display.Javascript object>"
      ]
     },
     "metadata": {},
     "output_type": "display_data"
    },
    {
     "data": {
      "text/markdown": [
       "<span style=\"color:#33cc33\">Correct</span>"
      ],
      "text/plain": [
       "Correct"
      ]
     },
     "metadata": {},
     "output_type": "display_data"
    }
   ],
   "source": [
    "# Define the model\n",
    "# Define the model\n",
    "my_model_3 = XGBRegressor(n_estimators=1)\n",
    "\n",
    "# Fit the model\n",
    "my_model_3.fit(X_train, y_train)\n",
    "\n",
    "# Get predictions\n",
    "predictions_3 = my_model_3.predict(X_valid)\n",
    "\n",
    "# Calculate MAE\n",
    "mae_3 = mean_absolute_error(predictions_3, y_valid)\n",
    "\n",
    "# Uncomment to print MAE\n",
    "print(\"Mean Absolute Error:\" , mae_3)\n",
    "\n",
    "# Check your answer\n",
    "step_3.check()"
   ]
  },
  {
   "cell_type": "code",
   "execution_count": 12,
   "id": "22fe87c6",
   "metadata": {
    "execution": {
     "iopub.execute_input": "2023-07-14T10:31:04.995834Z",
     "iopub.status.busy": "2023-07-14T10:31:04.995171Z",
     "iopub.status.idle": "2023-07-14T10:31:04.998709Z",
     "shell.execute_reply": "2023-07-14T10:31:04.998038Z"
    },
    "papermill": {
     "duration": 0.013165,
     "end_time": "2023-07-14T10:31:05.001112",
     "exception": false,
     "start_time": "2023-07-14T10:31:04.987947",
     "status": "completed"
    },
    "tags": []
   },
   "outputs": [],
   "source": [
    "# Lines below will give you a hint or solution code\n",
    "#step_3.hint()\n",
    "#step_3.solution()"
   ]
  },
  {
   "cell_type": "markdown",
   "id": "9a3f6ad3",
   "metadata": {
    "papermill": {
     "duration": 0.005829,
     "end_time": "2023-07-14T10:31:05.013291",
     "exception": false,
     "start_time": "2023-07-14T10:31:05.007462",
     "status": "completed"
    },
    "tags": []
   },
   "source": [
    "# Keep going\n",
    "\n",
    "Continue to learn about **[data leakage](https://www.kaggle.com/alexisbcook/data-leakage)**.  This is an important issue for a data scientist to understand, and it has the potential to ruin your models in subtle and dangerous ways!"
   ]
  },
  {
   "cell_type": "markdown",
   "id": "fc70655c",
   "metadata": {
    "papermill": {
     "duration": 0.005623,
     "end_time": "2023-07-14T10:31:05.025055",
     "exception": false,
     "start_time": "2023-07-14T10:31:05.019432",
     "status": "completed"
    },
    "tags": []
   },
   "source": [
    "---\n",
    "\n",
    "\n",
    "\n",
    "\n",
    "*Have questions or comments? Visit the [course discussion forum](https://www.kaggle.com/learn/intermediate-machine-learning/discussion) to chat with other learners.*"
   ]
  }
 ],
 "metadata": {
  "kernelspec": {
   "display_name": "Python 3",
   "language": "python",
   "name": "python3"
  },
  "language_info": {
   "codemirror_mode": {
    "name": "ipython",
    "version": 3
   },
   "file_extension": ".py",
   "mimetype": "text/x-python",
   "name": "python",
   "nbconvert_exporter": "python",
   "pygments_lexer": "ipython3",
   "version": "3.10.12"
  },
  "papermill": {
   "default_parameters": {},
   "duration": 19.489372,
   "end_time": "2023-07-14T10:31:05.953205",
   "environment_variables": {},
   "exception": null,
   "input_path": "__notebook__.ipynb",
   "output_path": "__notebook__.ipynb",
   "parameters": {},
   "start_time": "2023-07-14T10:30:46.463833",
   "version": "2.4.0"
  }
 },
 "nbformat": 4,
 "nbformat_minor": 5
}
