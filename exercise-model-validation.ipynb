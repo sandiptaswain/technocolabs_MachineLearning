{
 "cells": [
  {
   "cell_type": "markdown",
   "id": "e3b6d590",
   "metadata": {
    "papermill": {
     "duration": 0.006463,
     "end_time": "2023-07-14T06:25:36.827197",
     "exception": false,
     "start_time": "2023-07-14T06:25:36.820734",
     "status": "completed"
    },
    "tags": []
   },
   "source": [
    "**This notebook is an exercise in the [Introduction to Machine Learning](https://www.kaggle.com/learn/intro-to-machine-learning) course.  You can reference the tutorial at [this link](https://www.kaggle.com/dansbecker/model-validation).**\n",
    "\n",
    "---\n"
   ]
  },
  {
   "cell_type": "markdown",
   "id": "c0f38f24",
   "metadata": {
    "papermill": {
     "duration": 0.005451,
     "end_time": "2023-07-14T06:25:36.838625",
     "exception": false,
     "start_time": "2023-07-14T06:25:36.833174",
     "status": "completed"
    },
    "tags": []
   },
   "source": [
    "## Recap\n",
    "You've built a model. In this exercise you will test how good your model is.\n",
    "\n",
    "Run the cell below to set up your coding environment where the previous exercise left off."
   ]
  },
  {
   "cell_type": "code",
   "execution_count": 1,
   "id": "47fbabd0",
   "metadata": {
    "execution": {
     "iopub.execute_input": "2023-07-14T06:25:36.852031Z",
     "iopub.status.busy": "2023-07-14T06:25:36.851659Z",
     "iopub.status.idle": "2023-07-14T06:25:38.440945Z",
     "shell.execute_reply": "2023-07-14T06:25:38.439592Z"
    },
    "papermill": {
     "duration": 1.599314,
     "end_time": "2023-07-14T06:25:38.443621",
     "exception": false,
     "start_time": "2023-07-14T06:25:36.844307",
     "status": "completed"
    },
    "tags": []
   },
   "outputs": [
    {
     "name": "stderr",
     "output_type": "stream",
     "text": [
      "/opt/conda/lib/python3.10/site-packages/scipy/__init__.py:146: UserWarning: A NumPy version >=1.16.5 and <1.23.0 is required for this version of SciPy (detected version 1.23.5\n",
      "  warnings.warn(f\"A NumPy version >={np_minversion} and <{np_maxversion}\"\n"
     ]
    },
    {
     "name": "stdout",
     "output_type": "stream",
     "text": [
      "First in-sample predictions: [208500. 181500. 223500. 140000. 250000.]\n",
      "Actual target values for those homes: [208500, 181500, 223500, 140000, 250000]\n",
      "Setup Complete\n"
     ]
    }
   ],
   "source": [
    "# Code you have previously used to load data\n",
    "import pandas as pd\n",
    "from sklearn.tree import DecisionTreeRegressor\n",
    "\n",
    "# Path of the file to read\n",
    "iowa_file_path = '../input/home-data-for-ml-course/train.csv'\n",
    "\n",
    "home_data = pd.read_csv(iowa_file_path)\n",
    "y = home_data.SalePrice\n",
    "feature_columns = ['LotArea', 'YearBuilt', '1stFlrSF', '2ndFlrSF', 'FullBath', 'BedroomAbvGr', 'TotRmsAbvGrd']\n",
    "X = home_data[feature_columns]\n",
    "\n",
    "# Specify Model\n",
    "iowa_model = DecisionTreeRegressor()\n",
    "# Fit Model\n",
    "iowa_model.fit(X, y)\n",
    "\n",
    "print(\"First in-sample predictions:\", iowa_model.predict(X.head()))\n",
    "print(\"Actual target values for those homes:\", y.head().tolist())\n",
    "\n",
    "# Set up code checking\n",
    "from learntools.core import binder\n",
    "binder.bind(globals())\n",
    "from learntools.machine_learning.ex4 import *\n",
    "print(\"Setup Complete\")"
   ]
  },
  {
   "cell_type": "markdown",
   "id": "88313a04",
   "metadata": {
    "papermill": {
     "duration": 0.005962,
     "end_time": "2023-07-14T06:25:38.456095",
     "exception": false,
     "start_time": "2023-07-14T06:25:38.450133",
     "status": "completed"
    },
    "tags": []
   },
   "source": [
    "# Exercises\n",
    "\n",
    "## Step 1: Split Your Data\n",
    "Use the `train_test_split` function to split up your data.\n",
    "\n",
    "Give it the argument `random_state=1` so the `check` functions know what to expect when verifying your code.\n",
    "\n",
    "Recall, your features are loaded in the DataFrame **X** and your target is loaded in **y**.\n"
   ]
  },
  {
   "cell_type": "code",
   "execution_count": 2,
   "id": "e04bfdf2",
   "metadata": {
    "execution": {
     "iopub.execute_input": "2023-07-14T06:25:38.471180Z",
     "iopub.status.busy": "2023-07-14T06:25:38.470292Z",
     "iopub.status.idle": "2023-07-14T06:25:38.484805Z",
     "shell.execute_reply": "2023-07-14T06:25:38.483970Z"
    },
    "papermill": {
     "duration": 0.024664,
     "end_time": "2023-07-14T06:25:38.487345",
     "exception": false,
     "start_time": "2023-07-14T06:25:38.462681",
     "status": "completed"
    },
    "tags": []
   },
   "outputs": [
    {
     "data": {
      "application/javascript": [
       "parent.postMessage({\"jupyterEvent\": \"custom.exercise_interaction\", \"data\": {\"outcomeType\": 1, \"valueTowardsCompletion\": 0.25, \"interactionType\": 1, \"questionType\": 2, \"questionId\": \"1_SplitData\", \"learnToolsVersion\": \"0.3.4\", \"failureMessage\": \"\", \"exceptionClass\": \"\", \"trace\": \"\"}}, \"*\")"
      ],
      "text/plain": [
       "<IPython.core.display.Javascript object>"
      ]
     },
     "metadata": {},
     "output_type": "display_data"
    },
    {
     "data": {
      "text/markdown": [
       "<span style=\"color:#33cc33\">Correct</span>"
      ],
      "text/plain": [
       "Correct"
      ]
     },
     "metadata": {},
     "output_type": "display_data"
    }
   ],
   "source": [
    "# Import the train_test_split function and uncomment\n",
    "# from _ import _\n",
    "from sklearn.model_selection import train_test_split\n",
    "train_X, val_X, train_y, val_y = train_test_split(X, y, random_state=1)\n",
    "\n",
    "# fill in and uncomment\n",
    "# train_X, val_X, train_y, val_y = ____\n",
    "\n",
    "# Check your answer\n",
    "step_1.check()"
   ]
  },
  {
   "cell_type": "code",
   "execution_count": 3,
   "id": "6dc2a8f6",
   "metadata": {
    "execution": {
     "iopub.execute_input": "2023-07-14T06:25:38.502867Z",
     "iopub.status.busy": "2023-07-14T06:25:38.501985Z",
     "iopub.status.idle": "2023-07-14T06:25:38.506372Z",
     "shell.execute_reply": "2023-07-14T06:25:38.505479Z"
    },
    "papermill": {
     "duration": 0.014742,
     "end_time": "2023-07-14T06:25:38.508684",
     "exception": false,
     "start_time": "2023-07-14T06:25:38.493942",
     "status": "completed"
    },
    "tags": []
   },
   "outputs": [],
   "source": [
    "# The lines below will show you a hint or the solution.\n",
    "# step_1.hint() \n",
    "#step_1.solution()\n"
   ]
  },
  {
   "cell_type": "markdown",
   "id": "0d578e2c",
   "metadata": {
    "papermill": {
     "duration": 0.006184,
     "end_time": "2023-07-14T06:25:38.523060",
     "exception": false,
     "start_time": "2023-07-14T06:25:38.516876",
     "status": "completed"
    },
    "tags": []
   },
   "source": [
    "## Step 2: Specify and Fit the Model\n",
    "\n",
    "Create a `DecisionTreeRegressor` model and fit it to the relevant data.\n",
    "Set `random_state` to 1 again when creating the model."
   ]
  },
  {
   "cell_type": "code",
   "execution_count": 4,
   "id": "977d4b04",
   "metadata": {
    "execution": {
     "iopub.execute_input": "2023-07-14T06:25:38.538006Z",
     "iopub.status.busy": "2023-07-14T06:25:38.537285Z",
     "iopub.status.idle": "2023-07-14T06:25:38.567939Z",
     "shell.execute_reply": "2023-07-14T06:25:38.566776Z"
    },
    "papermill": {
     "duration": 0.040741,
     "end_time": "2023-07-14T06:25:38.570222",
     "exception": false,
     "start_time": "2023-07-14T06:25:38.529481",
     "status": "completed"
    },
    "tags": []
   },
   "outputs": [
    {
     "name": "stdout",
     "output_type": "stream",
     "text": [
      "[186500. 184000. 130000.  92000. 164500. 220000. 335000. 144152. 215000.\n",
      " 262000.]\n",
      "[186500. 184000. 130000.  92000. 164500. 220000. 335000. 144152. 215000.\n",
      " 262000.]\n"
     ]
    },
    {
     "data": {
      "application/javascript": [
       "parent.postMessage({\"jupyterEvent\": \"custom.exercise_interaction\", \"data\": {\"outcomeType\": 1, \"valueTowardsCompletion\": 0.25, \"interactionType\": 1, \"questionType\": 2, \"questionId\": \"2_FitModelWithTrain\", \"learnToolsVersion\": \"0.3.4\", \"failureMessage\": \"\", \"exceptionClass\": \"\", \"trace\": \"\"}}, \"*\")"
      ],
      "text/plain": [
       "<IPython.core.display.Javascript object>"
      ]
     },
     "metadata": {},
     "output_type": "display_data"
    },
    {
     "data": {
      "text/markdown": [
       "<span style=\"color:#33cc33\">Correct</span>"
      ],
      "text/plain": [
       "Correct"
      ]
     },
     "metadata": {},
     "output_type": "display_data"
    }
   ],
   "source": [
    "# You imported DecisionTreeRegressor in your last exercise\n",
    "# and that code has been copied to the setup code above. So, no need to\n",
    "# import it again\n",
    "iowa_model = DecisionTreeRegressor(random_state=1)\n",
    "iowa_model.fit(train_X, train_y)\n",
    "\n",
    "\n",
    "\n",
    "\n",
    "# Check your answer\n",
    "step_2.check()"
   ]
  },
  {
   "cell_type": "code",
   "execution_count": 5,
   "id": "8b07d4fa",
   "metadata": {
    "execution": {
     "iopub.execute_input": "2023-07-14T06:25:38.585927Z",
     "iopub.status.busy": "2023-07-14T06:25:38.585487Z",
     "iopub.status.idle": "2023-07-14T06:25:38.590618Z",
     "shell.execute_reply": "2023-07-14T06:25:38.589076Z"
    },
    "papermill": {
     "duration": 0.016902,
     "end_time": "2023-07-14T06:25:38.594181",
     "exception": false,
     "start_time": "2023-07-14T06:25:38.577279",
     "status": "completed"
    },
    "tags": []
   },
   "outputs": [],
   "source": [
    "# step_2.hint()\n",
    "#step_2.solution()"
   ]
  },
  {
   "cell_type": "markdown",
   "id": "7190ce5a",
   "metadata": {
    "papermill": {
     "duration": 0.006923,
     "end_time": "2023-07-14T06:25:38.608289",
     "exception": false,
     "start_time": "2023-07-14T06:25:38.601366",
     "status": "completed"
    },
    "tags": []
   },
   "source": [
    "## Step 3: Make Predictions with Validation data\n"
   ]
  },
  {
   "cell_type": "code",
   "execution_count": 6,
   "id": "3300a249",
   "metadata": {
    "execution": {
     "iopub.execute_input": "2023-07-14T06:25:38.624243Z",
     "iopub.status.busy": "2023-07-14T06:25:38.623840Z",
     "iopub.status.idle": "2023-07-14T06:25:38.636035Z",
     "shell.execute_reply": "2023-07-14T06:25:38.634976Z"
    },
    "papermill": {
     "duration": 0.023059,
     "end_time": "2023-07-14T06:25:38.638505",
     "exception": false,
     "start_time": "2023-07-14T06:25:38.615446",
     "status": "completed"
    },
    "tags": []
   },
   "outputs": [
    {
     "data": {
      "application/javascript": [
       "parent.postMessage({\"jupyterEvent\": \"custom.exercise_interaction\", \"data\": {\"outcomeType\": 1, \"valueTowardsCompletion\": 0.25, \"interactionType\": 1, \"questionType\": 2, \"questionId\": \"3_ValPreds\", \"learnToolsVersion\": \"0.3.4\", \"failureMessage\": \"\", \"exceptionClass\": \"\", \"trace\": \"\"}}, \"*\")"
      ],
      "text/plain": [
       "<IPython.core.display.Javascript object>"
      ]
     },
     "metadata": {},
     "output_type": "display_data"
    },
    {
     "data": {
      "text/markdown": [
       "<span style=\"color:#33cc33\">Correct</span>"
      ],
      "text/plain": [
       "Correct"
      ]
     },
     "metadata": {},
     "output_type": "display_data"
    }
   ],
   "source": [
    "# Predict with all validation observations\n",
    "val_predictions = iowa_model.predict(val_X)\n",
    "\n",
    "# Check your answer\n",
    "step_3.check()"
   ]
  },
  {
   "cell_type": "code",
   "execution_count": 7,
   "id": "08212556",
   "metadata": {
    "execution": {
     "iopub.execute_input": "2023-07-14T06:25:38.655424Z",
     "iopub.status.busy": "2023-07-14T06:25:38.655044Z",
     "iopub.status.idle": "2023-07-14T06:25:38.665102Z",
     "shell.execute_reply": "2023-07-14T06:25:38.663971Z"
    },
    "papermill": {
     "duration": 0.021344,
     "end_time": "2023-07-14T06:25:38.667406",
     "exception": false,
     "start_time": "2023-07-14T06:25:38.646062",
     "status": "completed"
    },
    "tags": []
   },
   "outputs": [
    {
     "data": {
      "application/javascript": [
       "parent.postMessage({\"jupyterEvent\": \"custom.exercise_interaction\", \"data\": {\"interactionType\": 3, \"questionType\": 2, \"questionId\": \"3_ValPreds\", \"learnToolsVersion\": \"0.3.4\", \"valueTowardsCompletion\": 0.0, \"failureMessage\": \"\", \"exceptionClass\": \"\", \"trace\": \"\", \"outcomeType\": 4}}, \"*\")"
      ],
      "text/plain": [
       "<IPython.core.display.Javascript object>"
      ]
     },
     "metadata": {},
     "output_type": "display_data"
    },
    {
     "data": {
      "text/markdown": [
       "<span style=\"color:#33cc99\">Solution:</span> \n",
       "```python\n",
       "val_predictions = iowa_model.predict(val_X)\n",
       "```"
      ],
      "text/plain": [
       "Solution: \n",
       "```python\n",
       "val_predictions = iowa_model.predict(val_X)\n",
       "```"
      ]
     },
     "metadata": {},
     "output_type": "display_data"
    }
   ],
   "source": [
    "# step_3.hint()\n",
    "step_3.solution()"
   ]
  },
  {
   "cell_type": "markdown",
   "id": "b51f6d81",
   "metadata": {
    "papermill": {
     "duration": 0.007402,
     "end_time": "2023-07-14T06:25:38.682482",
     "exception": false,
     "start_time": "2023-07-14T06:25:38.675080",
     "status": "completed"
    },
    "tags": []
   },
   "source": [
    "Inspect your predictions and actual values from validation data."
   ]
  },
  {
   "cell_type": "code",
   "execution_count": 8,
   "id": "6dc6d23d",
   "metadata": {
    "execution": {
     "iopub.execute_input": "2023-07-14T06:25:38.700292Z",
     "iopub.status.busy": "2023-07-14T06:25:38.699860Z",
     "iopub.status.idle": "2023-07-14T06:25:38.706525Z",
     "shell.execute_reply": "2023-07-14T06:25:38.705417Z"
    },
    "papermill": {
     "duration": 0.018731,
     "end_time": "2023-07-14T06:25:38.709354",
     "exception": false,
     "start_time": "2023-07-14T06:25:38.690623",
     "status": "completed"
    },
    "tags": []
   },
   "outputs": [
    {
     "name": "stdout",
     "output_type": "stream",
     "text": [
      "Top Validation Predictions:\n",
      "186500.0\n",
      "184000.0\n",
      "130000.0\n",
      "92000.0\n",
      "164500.0\n",
      "Top Actual Prices from Validation Data:\n",
      "LotArea\n",
      "YearBuilt\n",
      "1stFlrSF\n",
      "2ndFlrSF\n",
      "FullBath\n"
     ]
    }
   ],
   "source": [
    "\n",
    "# print the top few validation predictions\n",
    "top_predictions = val_predictions[:5]  # Change the number 5 to the desired number of predictions to print\n",
    "\n",
    "print(\"Top Validation Predictions:\")\n",
    "for prediction in top_predictions:\n",
    "    print(prediction)\n",
    "\n",
    "# print the top few actual prices from validation data\n",
    "top_actual_prices = feature_columns[:5]  # Change the number 5 to the desired number of prices to print\n",
    "\n",
    "print(\"Top Actual Prices from Validation Data:\")\n",
    "for price in top_actual_prices:\n",
    "    print(price)\n",
    "#print(____)"
   ]
  },
  {
   "cell_type": "markdown",
   "id": "84015256",
   "metadata": {
    "papermill": {
     "duration": 0.007442,
     "end_time": "2023-07-14T06:25:38.724640",
     "exception": false,
     "start_time": "2023-07-14T06:25:38.717198",
     "status": "completed"
    },
    "tags": []
   },
   "source": [
    "What do you notice that is different from what you saw with in-sample predictions (which are printed after the top code cell in this page).\n",
    "\n",
    "Do you remember why validation predictions differ from in-sample (or training) predictions? This is an important idea from the last lesson.\n",
    "\n",
    "## Step 4: Calculate the Mean Absolute Error in Validation Data\n"
   ]
  },
  {
   "cell_type": "code",
   "execution_count": 9,
   "id": "67b2913f",
   "metadata": {
    "execution": {
     "iopub.execute_input": "2023-07-14T06:25:38.741803Z",
     "iopub.status.busy": "2023-07-14T06:25:38.741451Z",
     "iopub.status.idle": "2023-07-14T06:25:38.751671Z",
     "shell.execute_reply": "2023-07-14T06:25:38.750590Z"
    },
    "papermill": {
     "duration": 0.022206,
     "end_time": "2023-07-14T06:25:38.754541",
     "exception": false,
     "start_time": "2023-07-14T06:25:38.732335",
     "status": "completed"
    },
    "tags": []
   },
   "outputs": [
    {
     "name": "stdout",
     "output_type": "stream",
     "text": [
      "29652.931506849316\n"
     ]
    },
    {
     "data": {
      "application/javascript": [
       "parent.postMessage({\"jupyterEvent\": \"custom.exercise_interaction\", \"data\": {\"outcomeType\": 1, \"valueTowardsCompletion\": 0.25, \"interactionType\": 1, \"questionType\": 1, \"questionId\": \"4_MAE\", \"learnToolsVersion\": \"0.3.4\", \"failureMessage\": \"\", \"exceptionClass\": \"\", \"trace\": \"\"}}, \"*\")"
      ],
      "text/plain": [
       "<IPython.core.display.Javascript object>"
      ]
     },
     "metadata": {},
     "output_type": "display_data"
    },
    {
     "data": {
      "text/markdown": [
       "<span style=\"color:#33cc33\">Correct</span>"
      ],
      "text/plain": [
       "Correct"
      ]
     },
     "metadata": {},
     "output_type": "display_data"
    }
   ],
   "source": [
    "from sklearn.metrics import mean_absolute_error\n",
    "val_mae =mean_absolute_error(val_y, val_predictions)\n",
    "\n",
    "# uncomment following line to see the validation_mae\n",
    "print(val_mae)\n",
    "\n",
    "# Check your answer\n",
    "step_4.check()"
   ]
  },
  {
   "cell_type": "code",
   "execution_count": 10,
   "id": "4b41dd87",
   "metadata": {
    "execution": {
     "iopub.execute_input": "2023-07-14T06:25:38.772651Z",
     "iopub.status.busy": "2023-07-14T06:25:38.772259Z",
     "iopub.status.idle": "2023-07-14T06:25:38.781409Z",
     "shell.execute_reply": "2023-07-14T06:25:38.780246Z"
    },
    "papermill": {
     "duration": 0.021153,
     "end_time": "2023-07-14T06:25:38.783742",
     "exception": false,
     "start_time": "2023-07-14T06:25:38.762589",
     "status": "completed"
    },
    "tags": []
   },
   "outputs": [
    {
     "data": {
      "application/javascript": [
       "parent.postMessage({\"jupyterEvent\": \"custom.exercise_interaction\", \"data\": {\"interactionType\": 3, \"questionType\": 1, \"questionId\": \"4_MAE\", \"learnToolsVersion\": \"0.3.4\", \"valueTowardsCompletion\": 0.0, \"failureMessage\": \"\", \"exceptionClass\": \"\", \"trace\": \"\", \"outcomeType\": 4}}, \"*\")"
      ],
      "text/plain": [
       "<IPython.core.display.Javascript object>"
      ]
     },
     "metadata": {},
     "output_type": "display_data"
    },
    {
     "data": {
      "text/markdown": [
       "<span style=\"color:#33cc99\">Solution:</span> \n",
       "```python\n",
       "val_mae = mean_absolute_error(val_y, val_predictions)\n",
       "```"
      ],
      "text/plain": [
       "Solution: \n",
       "```python\n",
       "val_mae = mean_absolute_error(val_y, val_predictions)\n",
       "```"
      ]
     },
     "metadata": {},
     "output_type": "display_data"
    }
   ],
   "source": [
    "# step_4.hint()\n",
    "step_4.solution()"
   ]
  },
  {
   "cell_type": "markdown",
   "id": "a54f452f",
   "metadata": {
    "papermill": {
     "duration": 0.008262,
     "end_time": "2023-07-14T06:25:38.800920",
     "exception": false,
     "start_time": "2023-07-14T06:25:38.792658",
     "status": "completed"
    },
    "tags": []
   },
   "source": [
    "Is that MAE good?  There isn't a general rule for what values are good that applies across applications. But you'll see how to use (and improve) this number in the next step.\n",
    "\n",
    "# Keep Going\n",
    "\n",
    "You are ready for **[Underfitting and Overfitting](https://www.kaggle.com/dansbecker/underfitting-and-overfitting).**\n"
   ]
  },
  {
   "cell_type": "markdown",
   "id": "423a9dc4",
   "metadata": {
    "papermill": {
     "duration": 0.008344,
     "end_time": "2023-07-14T06:25:38.818145",
     "exception": false,
     "start_time": "2023-07-14T06:25:38.809801",
     "status": "completed"
    },
    "tags": []
   },
   "source": [
    "---\n",
    "\n",
    "\n",
    "\n",
    "\n",
    "*Have questions or comments? Visit the [course discussion forum](https://www.kaggle.com/learn/intro-to-machine-learning/discussion) to chat with other learners.*"
   ]
  }
 ],
 "metadata": {
  "kernelspec": {
   "display_name": "Python 3",
   "language": "python",
   "name": "python3"
  },
  "language_info": {
   "codemirror_mode": {
    "name": "ipython",
    "version": 3
   },
   "file_extension": ".py",
   "mimetype": "text/x-python",
   "name": "python",
   "nbconvert_exporter": "python",
   "pygments_lexer": "ipython3",
   "version": "3.10.12"
  },
  "papermill": {
   "default_parameters": {},
   "duration": 14.036598,
   "end_time": "2023-07-14T06:25:39.748415",
   "environment_variables": {},
   "exception": null,
   "input_path": "__notebook__.ipynb",
   "output_path": "__notebook__.ipynb",
   "parameters": {},
   "start_time": "2023-07-14T06:25:25.711817",
   "version": "2.4.0"
  }
 },
 "nbformat": 4,
 "nbformat_minor": 5
}
